{
 "cells": [
  {
   "cell_type": "markdown",
   "metadata": {
    "collapsed": true
   },
   "source": [
    "# Sparsifying Convolutional Neural Network using RVSM\n"
   ]
  },
  {
   "cell_type": "code",
   "execution_count": 3,
   "metadata": {},
   "outputs": [
    {
     "name": "stdout",
     "output_type": "stream",
     "text": [
      "Extracting /tmp/data/train-images-idx3-ubyte.gz\n",
      "Extracting /tmp/data/train-labels-idx1-ubyte.gz\n",
      "Extracting /tmp/data/t10k-images-idx3-ubyte.gz\n",
      "Extracting /tmp/data/t10k-labels-idx1-ubyte.gz\n"
     ]
    }
   ],
   "source": [
    "from __future__ import division, print_function, absolute_import\n",
    "\n",
    "import tensorflow as tf\n",
    "# tf.enable_eager_execution()\n",
    "import numpy as np\n",
    "\n",
    "# Import MNIST data\n",
    "from tensorflow.examples.tutorials.mnist import input_data\n",
    "mnist = input_data.read_data_sets(\"/tmp/data/\", one_hot=True)\n"
   ]
  },
  {
   "cell_type": "code",
   "execution_count": 4,
   "metadata": {},
   "outputs": [],
   "source": [
    "# Training Parameters\n",
    "learning_rate = 0.001\n",
    "# learning_rate = 0.00005\n",
    "num_steps = 500\n",
    "batch_size = 128\n",
    "display_step = 50"
   ]
  },
  {
   "cell_type": "code",
   "execution_count": 34,
   "metadata": {},
   "outputs": [],
   "source": [
    "# Network Parameters\n",
    "num_input = 784 # MNIST data input (img shape: 28*28)\n",
    "num_classes = 10 # MNIST total classes (0-9 digits)\n",
    "dropout = 0.75 # Dropout, probability to keep units\n",
    "\n",
    "# tf Graph input\n",
    "X = tf.placeholder(tf.float32, [None, num_input])\n",
    "Y = tf.placeholder(tf.float32, [None, num_classes])\n",
    "# X = tf.zeros([num_input,1])\n",
    "# Y = tf.zeros([1,num_classes])\n",
    "keep_prob = tf.constant(0.2) # dropout (keep probability)"
   ]
  },
  {
   "cell_type": "code",
   "execution_count": 35,
   "metadata": {},
   "outputs": [],
   "source": [
    "# Create some wrappers for simplicity\n",
    "def conv2d(x, W, b, strides=1):\n",
    "    # Conv2D wrapper, with bias and relu activation\n",
    "    x = tf.nn.conv2d(x, W, strides=[1, strides, strides, 1], padding='SAME')\n",
    "    x = tf.nn.bias_add(x, b)\n",
    "    return tf.nn.relu(x)\n",
    "\n",
    "\n",
    "def maxpool2d(x, k=2):\n",
    "    # MaxPool2D wrapper\n",
    "    return tf.nn.max_pool(x, ksize=[1, k, k, 1], strides=[1, k, k, 1],\n",
    "                          padding='SAME')\n",
    "\n",
    "\n",
    "# Create model\n",
    "def conv_net(x, weights, biases, dropout):\n",
    "    # MNIST data input is a 1-D vector of 784 features (28*28 pixels)\n",
    "    # Reshape to match picture format [Height x Width x Channel]\n",
    "    # Tensor input become 4-D: [Batch Size, Height, Width, Channel]\n",
    "    x = tf.reshape(x, shape=[-1, 28, 28, 1])\n",
    "\n",
    "    # Convolution Layer\n",
    "    conv1 = conv2d(x, weights['wc1'], biases['bc1'])\n",
    "    # Max Pooling (down-sampling)\n",
    "    conv1 = maxpool2d(conv1, k=2)\n",
    "\n",
    "    # Convolution Layer\n",
    "    conv2 = conv2d(conv1, weights['wc2'], biases['bc2'])\n",
    "    # Max Pooling (down-sampling)\n",
    "    conv2 = maxpool2d(conv2, k=2)\n",
    "\n",
    "    # Fully connected layer\n",
    "    # Reshape conv2 output to fit fully connected layer input\n",
    "    fc1 = tf.reshape(conv2, [-1, weights['wd1'].get_shape().as_list()[0]])\n",
    "    fc1 = tf.add(tf.matmul(fc1, weights['wd1']), biases['bd1'])\n",
    "    fc1 = tf.nn.relu(fc1)\n",
    "    # Apply Dropout\n",
    "    fc1 = tf.nn.dropout(fc1, dropout)\n",
    "\n",
    "    # Output, class prediction\n",
    "    out = tf.add(tf.matmul(fc1, weights['out']), biases['out'])\n",
    "    return out"
   ]
  },
  {
   "cell_type": "code",
   "execution_count": 36,
   "metadata": {},
   "outputs": [],
   "source": [
    "# Store layers weight & bias\n",
    "weights = {\n",
    "    # 5x5 conv, 1 input, 32 outputs\n",
    "    'wc1': tf.Variable(tf.random_normal([5, 5, 1, 32])),\n",
    "    # 5x5 conv, 32 inputs, 64 outputs\n",
    "    'wc2': tf.Variable(tf.random_normal([5, 5, 32, 64])),\n",
    "    # fully connected, 7*7*64 inputs, 1024 outputs\n",
    "    'wd1': tf.Variable(tf.random_normal([7*7*64, 1024])),\n",
    "    # 1024 inputs, 10 outputs (class prediction)\n",
    "    'out': tf.Variable(tf.random_normal([1024, num_classes]))\n",
    "}\n",
    "\n",
    "biases = {\n",
    "    'bc1': tf.Variable(tf.random_normal([32])),\n",
    "    'bc2': tf.Variable(tf.random_normal([64])),\n",
    "    'bd1': tf.Variable(tf.random_normal([1024])),\n",
    "    'out': tf.Variable(tf.random_normal([num_classes]))\n",
    "}\n",
    "\n",
    "# Construct model\n",
    "logits = conv_net(X, weights, biases, keep_prob)\n",
    "prediction = tf.nn.softmax(logits)\n"
   ]
  },
  {
   "cell_type": "code",
   "execution_count": 37,
   "metadata": {
    "scrolled": true
   },
   "outputs": [],
   "source": [
    "# Define hard thresholding parameters\n",
    "lamb = 0.0005\n",
    "beta = 0.1\n",
    "gamma = lamb/beta\n",
    "\n",
    "# Define loss and optimizers\n",
    "loss_op = tf.reduce_mean(tf.nn.softmax_cross_entropy_with_logits(\n",
    "    logits=logits, labels=Y))\n",
    "\n",
    "# AdamOptimizer\n",
    "\n",
    "opt = tf.train.AdamOptimizer(learning_rate=learning_rate)\n",
    "grad = opt.compute_gradients(loss_op)\n",
    "w = grad[2][1]\n",
    "condition = tf.greater(tf.abs(w), np.sqrt(2*gamma))\n",
    "u = tf.where(condition, w, tf.zeros_like(w))\n",
    "new_grad = grad[2][0] + beta * (w - u)\n",
    "grad[2] = (new_grad, w)\n",
    "train_op1 = opt.apply_gradients(grad)\n",
    "\n",
    "# Evaluate model\n",
    "\n",
    "correct_pred = tf.equal(tf.argmax(prediction, 1), tf.argmax(Y, 1))\n",
    "accuracy = tf.reduce_mean(tf.cast(correct_pred, tf.float32))"
   ]
  },
  {
   "cell_type": "code",
   "execution_count": 38,
   "metadata": {},
   "outputs": [
    {
     "data": {
      "text/plain": [
       "[(<tf.Tensor 'gradients_1/Conv2D_grad/tuple/control_dependency_1:0' shape=(5, 5, 1, 32) dtype=float32>,\n",
       "  <tf.Variable 'Variable:0' shape=(5, 5, 1, 32) dtype=float32_ref>),\n",
       " (<tf.Tensor 'gradients_1/Conv2D_1_grad/tuple/control_dependency_1:0' shape=(5, 5, 32, 64) dtype=float32>,\n",
       "  <tf.Variable 'Variable_1:0' shape=(5, 5, 32, 64) dtype=float32_ref>),\n",
       " (<tf.Tensor 'gradients_1/MatMul_grad/tuple/control_dependency_1:0' shape=(3136, 1024) dtype=float32>,\n",
       "  <tf.Variable 'Variable_2:0' shape=(3136, 1024) dtype=float32_ref>),\n",
       " (<tf.Tensor 'gradients_1/MatMul_1_grad/tuple/control_dependency_1:0' shape=(1024, 10) dtype=float32>,\n",
       "  <tf.Variable 'Variable_3:0' shape=(1024, 10) dtype=float32_ref>),\n",
       " (<tf.Tensor 'gradients_1/BiasAdd_grad/tuple/control_dependency_1:0' shape=(32,) dtype=float32>,\n",
       "  <tf.Variable 'Variable_4:0' shape=(32,) dtype=float32_ref>),\n",
       " (<tf.Tensor 'gradients_1/BiasAdd_1_grad/tuple/control_dependency_1:0' shape=(64,) dtype=float32>,\n",
       "  <tf.Variable 'Variable_5:0' shape=(64,) dtype=float32_ref>),\n",
       " (<tf.Tensor 'gradients_1/Add_grad/tuple/control_dependency_1:0' shape=(1024,) dtype=float32>,\n",
       "  <tf.Variable 'Variable_6:0' shape=(1024,) dtype=float32_ref>),\n",
       " (<tf.Tensor 'gradients_1/Add_1_grad/tuple/control_dependency_1:0' shape=(10,) dtype=float32>,\n",
       "  <tf.Variable 'Variable_7:0' shape=(10,) dtype=float32_ref>)]"
      ]
     },
     "execution_count": 38,
     "metadata": {},
     "output_type": "execute_result"
    }
   ],
   "source": [
    "opt = tf.train.GradientDescentOptimizer(learning_rate=learning_rate)\n",
    "opt.compute_gradients(loss_op)"
   ]
  },
  {
   "cell_type": "code",
   "execution_count": 39,
   "metadata": {},
   "outputs": [],
   "source": [
    "# Initialize save function\n",
    "saver = tf.train.Saver()\n",
    "\n",
    "# Initialize the variables (i.e. assign their default value)\n",
    "init = tf.global_variables_initializer()"
   ]
  },
  {
   "cell_type": "code",
   "execution_count": 97,
   "metadata": {
    "scrolled": false
   },
   "outputs": [
    {
     "name": "stdout",
     "output_type": "stream",
     "text": [
      "Step 1, Minibatch Loss= 47763.3359, Training Accuracy= 0.164\n",
      "Step 50, Minibatch Loss= 3496.3965, Training Accuracy= 0.781\n",
      "Step 100, Minibatch Loss= 3022.1284, Training Accuracy= 0.828\n",
      "Step 150, Minibatch Loss= 668.8149, Training Accuracy= 0.953\n",
      "Step 200, Minibatch Loss= 759.8076, Training Accuracy= 0.914\n",
      "Step 250, Minibatch Loss= 290.3637, Training Accuracy= 0.969\n",
      "Step 300, Minibatch Loss= 586.8425, Training Accuracy= 0.938\n",
      "Step 350, Minibatch Loss= 353.7922, Training Accuracy= 0.961\n",
      "Step 400, Minibatch Loss= 199.9929, Training Accuracy= 0.977\n",
      "Step 450, Minibatch Loss= 65.3822, Training Accuracy= 0.984\n",
      "Step 500, Minibatch Loss= 819.1185, Training Accuracy= 0.938\n",
      "Optimization Finished!\n",
      "Testing Accuracy: 0.98046875\n"
     ]
    }
   ],
   "source": [
    "# Start training\n",
    "with tf.Session() as sess:\n",
    "\n",
    "    # Run the initializer\n",
    "    sess.run(init)\n",
    "\n",
    "    for step in range(1, num_steps+1):\n",
    "        batch_x, batch_y = mnist.train.next_batch(batch_size)\n",
    "        # Run optimization op (backprop)\n",
    "        sess.run(train_op1, feed_dict={X: batch_x, Y: batch_y, keep_prob: dropout})\n",
    "        if step % display_step == 0 or step == 1:\n",
    "            # Calculate batch loss and accuracy\n",
    "            loss, acc = sess.run([loss_op, accuracy], feed_dict={X: batch_x,\n",
    "                                                                 Y: batch_y,\n",
    "                                                                 keep_prob: 1.0})\n",
    "            print(\"Step \" + str(step) + \", Minibatch Loss= \" + \\\n",
    "                  \"{:.4f}\".format(loss) + \", Training Accuracy= \" + \\\n",
    "                  \"{:.3f}\".format(acc))\n",
    "\n",
    "    print(\"Optimization Finished!\")\n",
    "\n",
    "    # Calculate accuracy for 256 MNIST test images\n",
    "    print(\"Testing Accuracy:\", \\\n",
    "        sess.run(accuracy, feed_dict={X: mnist.test.images[:256],\n",
    "                                      Y: mnist.test.labels[:256],\n",
    "                                      keep_prob: 1.0}))\n",
    "    wbar = tf.Variable(w.eval())\n",
    "    saver.save(sess, 'mnist1.chkp')\n"
   ]
  },
  {
   "cell_type": "code",
   "execution_count": 124,
   "metadata": {},
   "outputs": [],
   "source": [
    "# Evaluate with u\n",
    "\n",
    "condition = tf.greater(tf.abs(wbar), np.sqrt(2*gamma))\n",
    "ubar = tf.where(condition, w, tf.zeros_like(w))\n",
    "weights['wd1'] = ubar\n",
    "logits = conv_net(X, weights, biases, keep_prob)\n",
    "prediction = tf.nn.softmax(logits)\n",
    "correct_pred = tf.equal(tf.argmax(prediction, 1), tf.argmax(Y, 1))\n",
    "accuracy_u = tf.reduce_mean(tf.cast(correct_pred, tf.float32))\n",
    "\n",
    "# Evaluate with not u\n",
    "\n",
    "condition = tf.greater(tf.abs(wbar), np.sqrt(2*gamma))\n",
    "unot = tf.where(condition, tf.zeros_like(w), w)\n",
    "weights['wd1'] = unot\n",
    "logits = conv_net(X, weights, biases, keep_prob)\n",
    "prediction = tf.nn.softmax(logits)\n",
    "correct_pred = tf.equal(tf.argmax(prediction, 1), tf.argmax(Y, 1))\n",
    "accuracy_unot = tf.reduce_mean(tf.cast(correct_pred, tf.float32))\n",
    "\n",
    "\n",
    "init = tf.global_variables_initializer()"
   ]
  },
  {
   "cell_type": "code",
   "execution_count": 125,
   "metadata": {
    "scrolled": false
   },
   "outputs": [
    {
     "name": "stdout",
     "output_type": "stream",
     "text": [
      "INFO:tensorflow:Restoring parameters from mnist1.chkp\n",
      "Accuracy with w: 0.9804687500\n",
      "Accuracy with u: 0.9804687500\n",
      "Accuracy with u not: 0.1289062500\n"
     ]
    }
   ],
   "source": [
    "with tf.Session() as sess:\n",
    "    sess.run(init)\n",
    "    saver.restore(sess, 'mnist1.chkp')\n",
    "    batch_x, batch_y = mnist.train.next_batch(batch_size)\n",
    "    \n",
    "    # Evaluate with w\n",
    "    acc = sess.run(accuracy, feed_dict={X: mnist.test.images[:256],\n",
    "                                      Y: mnist.test.labels[:256],\n",
    "                                      keep_prob: 1.0})\n",
    "    print('Accuracy with w: {:.8}'.format(acc))\n",
    "    \n",
    "    # Evaluate with u        \n",
    "    acc = sess.run(accuracy_u, feed_dict={X: mnist.test.images[:256],\n",
    "                                      Y: mnist.test.labels[:256],\n",
    "                                      keep_prob: 1.0})\n",
    "    print('Accuracy with u: {:.8}'.format(acc))\n",
    "    \n",
    "    # Evaluate with unot     \n",
    "    acc = sess.run(accuracy_unot, feed_dict={X: mnist.test.images[:256],\n",
    "                                      Y: mnist.test.labels[:256],\n",
    "                                      keep_prob: 1.0})\n",
    "    print('Accuracy with u not: {:.8}'.format(acc))  \n"
   ]
  },
  {
   "cell_type": "code",
   "execution_count": 31,
   "metadata": {},
   "outputs": [],
   "source": [
    "tf.reset_default_graph()"
   ]
  },
  {
   "cell_type": "code",
   "execution_count": null,
   "metadata": {},
   "outputs": [],
   "source": []
  },
  {
   "cell_type": "code",
   "execution_count": null,
   "metadata": {},
   "outputs": [],
   "source": []
  },
  {
   "cell_type": "code",
   "execution_count": 106,
   "metadata": {},
   "outputs": [],
   "source": [
    "a = tf.random_normal([3,3])\n",
    "condition = tf.greater(tf.abs(a), np.sqrt(2*gamma))\n",
    "b = tf.where(condition, a, tf.zeros_like(a))\n",
    "\n",
    "init = tf.global_variables_initializer()\n"
   ]
  },
  {
   "cell_type": "code",
   "execution_count": 123,
   "metadata": {},
   "outputs": [
    {
     "name": "stdout",
     "output_type": "stream",
     "text": [
      "2944295.0\n"
     ]
    }
   ],
   "source": [
    "with tf.Session() as sess:\n",
    "    sess.run(init)\n",
    "    print((tf.reduce_sum(tf.cast(tf.abs(wbar.eval())>0.1,tf.float32))).eval())\n",
    "    "
   ]
  },
  {
   "cell_type": "code",
   "execution_count": 121,
   "metadata": {},
   "outputs": [],
   "source": [
    "nonzeros = 266969\n",
    "zeros = 2944295"
   ]
  },
  {
   "cell_type": "code",
   "execution_count": 130,
   "metadata": {},
   "outputs": [
    {
     "data": {
      "text/plain": [
       "[<tf.Variable 'Variable:0' shape=(5, 5, 1, 32) dtype=float32_ref>,\n",
       " <tf.Variable 'Variable_1:0' shape=(5, 5, 32, 64) dtype=float32_ref>,\n",
       " <tf.Variable 'Variable_2:0' shape=(3136, 1024) dtype=float32_ref>,\n",
       " <tf.Variable 'Variable_3:0' shape=(1024, 10) dtype=float32_ref>,\n",
       " <tf.Variable 'Variable_4:0' shape=(32,) dtype=float32_ref>,\n",
       " <tf.Variable 'Variable_5:0' shape=(64,) dtype=float32_ref>,\n",
       " <tf.Variable 'Variable_6:0' shape=(1024,) dtype=float32_ref>,\n",
       " <tf.Variable 'Variable_7:0' shape=(10,) dtype=float32_ref>,\n",
       " <tf.Variable 'Variable_8:0' shape=(3, 3) dtype=float32_ref>,\n",
       " <tf.Variable 'Variable_9:0' shape=(3, 3) dtype=float32_ref>,\n",
       " <tf.Variable 'Variable_10:0' shape=(3, 3) dtype=float32_ref>,\n",
       " <tf.Variable 'Variable_11:0' shape=(3136, 1024) dtype=float32_ref>]"
      ]
     },
     "execution_count": 130,
     "metadata": {},
     "output_type": "execute_result"
    }
   ],
   "source": [
    "tf.trainable_variables().remove()"
   ]
  },
  {
   "cell_type": "code",
   "execution_count": null,
   "metadata": {},
   "outputs": [],
   "source": []
  }
 ],
 "metadata": {
  "kernelspec": {
   "display_name": "tensorflow",
   "language": "python",
   "name": "tensorflow"
  },
  "language_info": {
   "codemirror_mode": {
    "name": "ipython",
    "version": 3
   },
   "file_extension": ".py",
   "mimetype": "text/x-python",
   "name": "python",
   "nbconvert_exporter": "python",
   "pygments_lexer": "ipython3",
   "version": "3.7.3"
  }
 },
 "nbformat": 4,
 "nbformat_minor": 1
}
