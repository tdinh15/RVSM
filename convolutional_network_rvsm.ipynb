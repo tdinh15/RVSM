{
 "cells": [
  {
   "cell_type": "markdown",
   "metadata": {
    "collapsed": true
   },
   "source": [
    "# Sparsifying Convolutional Neural Network using RVSM\n"
   ]
  },
  {
   "cell_type": "code",
   "execution_count": 2,
   "metadata": {},
   "outputs": [
    {
     "name": "stdout",
     "output_type": "stream",
     "text": [
      "Extracting /tmp/data/train-images-idx3-ubyte.gz\n",
      "Extracting /tmp/data/train-labels-idx1-ubyte.gz\n",
      "Extracting /tmp/data/t10k-images-idx3-ubyte.gz\n",
      "Extracting /tmp/data/t10k-labels-idx1-ubyte.gz\n"
     ]
    }
   ],
   "source": [
    "from __future__ import division, print_function, absolute_import\n",
    "\n",
    "import tensorflow as tf\n",
    "# tf.enable_eager_execution()\n",
    "import numpy as np\n",
    "\n",
    "# Import MNIST data\n",
    "from tensorflow.examples.tutorials.mnist import input_data\n",
    "mnist = input_data.read_data_sets(\"/tmp/data/\", one_hot=True)\n"
   ]
  },
  {
   "cell_type": "code",
   "execution_count": 3,
   "metadata": {},
   "outputs": [],
   "source": [
    "# Training Parameters\n",
    "learning_rate = 0.001\n",
    "# learning_rate = 0.00005\n",
    "num_steps = 500\n",
    "batch_size = 128\n",
    "display_step = 50"
   ]
  },
  {
   "cell_type": "code",
   "execution_count": 4,
   "metadata": {},
   "outputs": [],
   "source": [
    "# Network Parameters\n",
    "num_input = 784 # MNIST data input (img shape: 28*28)\n",
    "num_classes = 10 # MNIST total classes (0-9 digits)\n",
    "dropout = 0.75 # Dropout, probability to keep units\n",
    "\n",
    "# tf Graph input\n",
    "X = tf.placeholder(tf.float32, [None, num_input])\n",
    "Y = tf.placeholder(tf.float32, [None, num_classes])\n",
    "# X = tf.zeros([num_input,1])\n",
    "# Y = tf.zeros([1,num_classes])\n",
    "keep_prob = tf.constant(0.2) # dropout (keep probability)"
   ]
  },
  {
   "cell_type": "code",
   "execution_count": 5,
   "metadata": {},
   "outputs": [],
   "source": [
    "# Create some wrappers for simplicity\n",
    "def conv2d(x, W, b, strides=1):\n",
    "    # Conv2D wrapper, with bias and relu activation\n",
    "    x = tf.nn.conv2d(x, W, strides=[1, strides, strides, 1], padding='SAME')\n",
    "    x = tf.nn.bias_add(x, b)\n",
    "    return tf.nn.relu(x)\n",
    "\n",
    "\n",
    "def maxpool2d(x, k=2):\n",
    "    # MaxPool2D wrapper\n",
    "    return tf.nn.max_pool(x, ksize=[1, k, k, 1], strides=[1, k, k, 1],\n",
    "                          padding='SAME')\n",
    "\n",
    "\n",
    "# Create model\n",
    "def conv_net(x, weights, biases, dropout):\n",
    "    # MNIST data input is a 1-D vector of 784 features (28*28 pixels)\n",
    "    # Reshape to match picture format [Height x Width x Channel]\n",
    "    # Tensor input become 4-D: [Batch Size, Height, Width, Channel]\n",
    "    x = tf.reshape(x, shape=[-1, 28, 28, 1])\n",
    "\n",
    "    # Convolution Layer\n",
    "    conv1 = conv2d(x, weights['wc1'], biases['bc1'])\n",
    "    # Max Pooling (down-sampling)\n",
    "    conv1 = maxpool2d(conv1, k=2)\n",
    "\n",
    "    # Convolution Layer\n",
    "    conv2 = conv2d(conv1, weights['wc2'], biases['bc2'])\n",
    "    # Max Pooling (down-sampling)\n",
    "    conv2 = maxpool2d(conv2, k=2)\n",
    "\n",
    "    # Fully connected layer\n",
    "    # Reshape conv2 output to fit fully connected layer input\n",
    "    fc1 = tf.reshape(conv2, [-1, weights['wd1'].get_shape().as_list()[0]])\n",
    "    fc1 = tf.add(tf.matmul(fc1, weights['wd1']), biases['bd1'])\n",
    "    fc1 = tf.nn.relu(fc1)\n",
    "    # Apply Dropout\n",
    "    fc1 = tf.nn.dropout(fc1, dropout)\n",
    "\n",
    "    # Output, class prediction\n",
    "    out = tf.add(tf.matmul(fc1, weights['out']), biases['out'])\n",
    "    return out"
   ]
  },
  {
   "cell_type": "code",
   "execution_count": 6,
   "metadata": {},
   "outputs": [
    {
     "name": "stdout",
     "output_type": "stream",
     "text": [
      "WARNING:tensorflow:From D:\\Anaconda3\\lib\\site-packages\\tensorflow\\python\\framework\\op_def_library.py:263: colocate_with (from tensorflow.python.framework.ops) is deprecated and will be removed in a future version.\n",
      "Instructions for updating:\n",
      "Colocations handled automatically by placer.\n"
     ]
    }
   ],
   "source": [
    "# Store layers weight & bias\n",
    "weights = {\n",
    "    # 5x5 conv, 1 input, 32 outputs\n",
    "    'wc1': tf.Variable(tf.random_normal([5, 5, 1, 32])),\n",
    "    # 5x5 conv, 32 inputs, 64 outputs\n",
    "    'wc2': tf.Variable(tf.random_normal([5, 5, 32, 64])),\n",
    "    # fully connected, 7*7*64 inputs, 1024 outputs\n",
    "    'wd1': tf.Variable(tf.random_normal([7*7*64, 1024])),\n",
    "    # 1024 inputs, 10 outputs (class prediction)\n",
    "    'out': tf.Variable(tf.random_normal([1024, num_classes]))\n",
    "}\n",
    "\n",
    "biases = {\n",
    "    'bc1': tf.Variable(tf.random_normal([32])),\n",
    "    'bc2': tf.Variable(tf.random_normal([64])),\n",
    "    'bd1': tf.Variable(tf.random_normal([1024])),\n",
    "    'out': tf.Variable(tf.random_normal([num_classes]))\n",
    "}\n"
   ]
  },
  {
   "cell_type": "code",
   "execution_count": 7,
   "metadata": {
    "scrolled": true
   },
   "outputs": [
    {
     "name": "stdout",
     "output_type": "stream",
     "text": [
      "WARNING:tensorflow:From <ipython-input-5-fce84427c804>:38: calling dropout (from tensorflow.python.ops.nn_ops) with keep_prob is deprecated and will be removed in a future version.\n",
      "Instructions for updating:\n",
      "Please use `rate` instead of `keep_prob`. Rate should be set to `rate = 1 - keep_prob`.\n",
      "WARNING:tensorflow:From <ipython-input-7-e16cb5fdfddb>:12: softmax_cross_entropy_with_logits (from tensorflow.python.ops.nn_ops) is deprecated and will be removed in a future version.\n",
      "Instructions for updating:\n",
      "\n",
      "Future major versions of TensorFlow will allow gradients to flow\n",
      "into the labels input on backprop by default.\n",
      "\n",
      "See `tf.nn.softmax_cross_entropy_with_logits_v2`.\n",
      "\n"
     ]
    }
   ],
   "source": [
    "# Construct model\n",
    "logits = conv_net(X, weights, biases, keep_prob)\n",
    "prediction = tf.nn.softmax(logits)\n",
    "\n",
    "# Define hard thresholding parameters\n",
    "lamb = 0.0005\n",
    "beta = 0.1\n",
    "gamma = lamb/beta\n",
    "\n",
    "# Define loss and optimizers\n",
    "loss_op = tf.reduce_mean(tf.nn.softmax_cross_entropy_with_logits(\n",
    "    logits=logits, labels=Y))\n",
    "\n",
    "# AdamOptimizer\n",
    "\n",
    "opt = tf.train.AdamOptimizer(learning_rate=learning_rate)\n",
    "grad = opt.compute_gradients(loss_op)   # grad is a list of tuples of the form (gradient, variable)\n",
    "# grad[2] is the 3rd variable, which is the fully-connected layer we want to modify\n",
    "w = grad[2][1]   # grad[2][1] is the weight w of the fc layer\n",
    "condition = tf.greater(tf.abs(w), np.sqrt(2*gamma))\n",
    "u = tf.where(condition, w, tf.zeros_like(w))   # u = threshold(w)\n",
    "new_grad = grad[2][0] + beta * (w - u)   # replace the current gradient with \\nabla_w Lagrangian\n",
    "grad[2] = (new_grad, w)   # replace the 3rd tuple with (new gradient, w)\n",
    "train_op1 = opt.apply_gradients(grad)   # feed new gradient to the Adam iteration\n",
    "\n",
    "# Evaluate model\n",
    "\n",
    "correct_pred = tf.equal(tf.argmax(prediction, 1), tf.argmax(Y, 1))\n",
    "accuracy = tf.reduce_mean(tf.cast(correct_pred, tf.float32))"
   ]
  },
  {
   "cell_type": "code",
   "execution_count": 8,
   "metadata": {},
   "outputs": [
    {
     "data": {
      "text/plain": [
       "[(<tf.Tensor 'gradients_1/Conv2D_grad/tuple/control_dependency_1:0' shape=(5, 5, 1, 32) dtype=float32>,\n",
       "  <tf.Variable 'Variable:0' shape=(5, 5, 1, 32) dtype=float32_ref>),\n",
       " (<tf.Tensor 'gradients_1/Conv2D_1_grad/tuple/control_dependency_1:0' shape=(5, 5, 32, 64) dtype=float32>,\n",
       "  <tf.Variable 'Variable_1:0' shape=(5, 5, 32, 64) dtype=float32_ref>),\n",
       " (<tf.Tensor 'gradients_1/MatMul_grad/tuple/control_dependency_1:0' shape=(3136, 1024) dtype=float32>,\n",
       "  <tf.Variable 'Variable_2:0' shape=(3136, 1024) dtype=float32_ref>),\n",
       " (<tf.Tensor 'gradients_1/MatMul_1_grad/tuple/control_dependency_1:0' shape=(1024, 10) dtype=float32>,\n",
       "  <tf.Variable 'Variable_3:0' shape=(1024, 10) dtype=float32_ref>),\n",
       " (<tf.Tensor 'gradients_1/BiasAdd_grad/tuple/control_dependency_1:0' shape=(32,) dtype=float32>,\n",
       "  <tf.Variable 'Variable_4:0' shape=(32,) dtype=float32_ref>),\n",
       " (<tf.Tensor 'gradients_1/BiasAdd_1_grad/tuple/control_dependency_1:0' shape=(64,) dtype=float32>,\n",
       "  <tf.Variable 'Variable_5:0' shape=(64,) dtype=float32_ref>),\n",
       " (<tf.Tensor 'gradients_1/Add_grad/tuple/control_dependency_1:0' shape=(1024,) dtype=float32>,\n",
       "  <tf.Variable 'Variable_6:0' shape=(1024,) dtype=float32_ref>),\n",
       " (<tf.Tensor 'gradients_1/Add_1_grad/tuple/control_dependency_1:0' shape=(10,) dtype=float32>,\n",
       "  <tf.Variable 'Variable_7:0' shape=(10,) dtype=float32_ref>)]"
      ]
     },
     "execution_count": 8,
     "metadata": {},
     "output_type": "execute_result"
    }
   ],
   "source": [
    "# A list of gradients is shown below, confirming that there should be 8 gradients: 4 weights and 4 biases\n",
    "# This also confirms the 3rd tuple is the fc layer we want to modify\n",
    "\n",
    "opt = tf.train.GradientDescentOptimizer(learning_rate=learning_rate)\n",
    "opt.compute_gradients(loss_op)"
   ]
  },
  {
   "cell_type": "code",
   "execution_count": 9,
   "metadata": {},
   "outputs": [],
   "source": [
    "# Initialize save function\n",
    "saver = tf.train.Saver()\n",
    "\n",
    "# Initialize the variables (i.e. assign their default value)\n",
    "init = tf.global_variables_initializer()"
   ]
  },
  {
   "cell_type": "code",
   "execution_count": 10,
   "metadata": {
    "scrolled": false
   },
   "outputs": [
    {
     "name": "stdout",
     "output_type": "stream",
     "text": [
      "Step 1, Minibatch Loss= 50621.1602, Training Accuracy= 0.156\n",
      "Step 50, Minibatch Loss= 3305.3025, Training Accuracy= 0.797\n",
      "Step 100, Minibatch Loss= 2509.3518, Training Accuracy= 0.875\n",
      "Step 150, Minibatch Loss= 1636.1376, Training Accuracy= 0.891\n",
      "Step 200, Minibatch Loss= 2571.5571, Training Accuracy= 0.875\n",
      "Step 250, Minibatch Loss= 1326.8799, Training Accuracy= 0.914\n",
      "Step 300, Minibatch Loss= 641.3702, Training Accuracy= 0.961\n",
      "Step 350, Minibatch Loss= 419.3207, Training Accuracy= 0.953\n",
      "Step 400, Minibatch Loss= 795.2315, Training Accuracy= 0.922\n",
      "Step 450, Minibatch Loss= 411.6193, Training Accuracy= 0.961\n",
      "Step 500, Minibatch Loss= 311.4163, Training Accuracy= 0.961\n",
      "Optimization Finished!\n",
      "Testing Accuracy: 0.9609375\n"
     ]
    }
   ],
   "source": [
    "# Start training\n",
    "with tf.Session() as sess:\n",
    "\n",
    "    # Run the initializer\n",
    "    sess.run(init)\n",
    "\n",
    "    for step in range(1, num_steps+1):\n",
    "        batch_x, batch_y = mnist.train.next_batch(batch_size)\n",
    "        # Run optimization op (backprop)\n",
    "        sess.run(train_op1, feed_dict={X: batch_x, Y: batch_y, keep_prob: dropout})\n",
    "        if step % display_step == 0 or step == 1:\n",
    "            # Calculate batch loss and accuracy\n",
    "            loss, acc = sess.run([loss_op, accuracy], feed_dict={X: batch_x,\n",
    "                                                                 Y: batch_y,\n",
    "                                                                 keep_prob: 1.0})\n",
    "            print(\"Step \" + str(step) + \", Minibatch Loss= \" + \\\n",
    "                  \"{:.4f}\".format(loss) + \", Training Accuracy= \" + \\\n",
    "                  \"{:.3f}\".format(acc))\n",
    "\n",
    "    print(\"Optimization Finished!\")\n",
    "\n",
    "    # Calculate accuracy for 256 MNIST test images\n",
    "    print(\"Testing Accuracy:\", \\\n",
    "        sess.run(accuracy, feed_dict={X: mnist.test.images[:256],\n",
    "                                      Y: mnist.test.labels[:256],\n",
    "                                      keep_prob: 1.0}))\n",
    "    wbar = tf.Variable(w.eval())\n",
    "    saver.save(sess, 'mnist1.chkp')\n"
   ]
  },
  {
   "cell_type": "code",
   "execution_count": 63,
   "metadata": {},
   "outputs": [],
   "source": [
    "# Create two operations to evaluate the accuracy of the model. \n",
    "# The first one is when w is replaced with u = threshold(w).\n",
    "# The second one is to make sure the code runs correctly. Here u is a reversed threshold of w where large values are pruned off.\n",
    "\n",
    "# Evaluate with u\n",
    "\n",
    "# condition = tf.greater(tf.abs(wbar), 16*np.sqrt(2*gamma))\n",
    "# ubar = tf.where(condition, wbar, tf.zeros_like(wbar))   # This is threshold(wbar)\n",
    "# # weights['wd1'] = ubar\n",
    "# logits_u = conv_net(X, {\n",
    "#                     'wc1': weights['wc1'],\n",
    "#                     'wc2': weights['wc2'],\n",
    "#                     'wd1': ubar,\n",
    "#                     'out': weights['out']\n",
    "#                     }, biases, keep_prob)\n",
    "# prediction_u = tf.nn.softmax(logits_u)\n",
    "# correct_pred_u = tf.equal(tf.argmax(prediction_u, 1), tf.argmax(Y, 1))\n",
    "# accuracy_u = tf.reduce_mean(tf.cast(correct_pred_u, tf.float32))\n",
    "\n",
    "def accuracy_u(wbar,conv_net,mult):\n",
    "    condition = tf.greater(tf.abs(wbar), mult*np.sqrt(2*gamma))\n",
    "    ubar = tf.where(condition, wbar, tf.zeros_like(wbar))   # This is threshold(wbar)\n",
    "    # weights['wd1'] = ubar\n",
    "    logits_u = conv_net(X, {\n",
    "                        'wc1': weights['wc1'],\n",
    "                        'wc2': weights['wc2'],\n",
    "                        'wd1': ubar,\n",
    "                        'out': weights['out']\n",
    "                        }, biases, keep_prob)\n",
    "    prediction_u = tf.nn.softmax(logits_u)\n",
    "    correct_pred_u = tf.equal(tf.argmax(prediction_u, 1), tf.argmax(Y, 1))\n",
    "    return [ubar, tf.reduce_mean(tf.cast(correct_pred_u, tf.float32))]\n",
    "\n",
    "# Evaluate with not u\n",
    "\n",
    "# condition = tf.greater(tf.abs(wbar), np.sqrt(2*gamma))\n",
    "# unot = tf.where(condition, tf.zeros_like(wbar), wbar)   # This is a reversed threshold(wbar)\n",
    "# weights['wd1'] = unot\n",
    "# logits_unot = conv_net(X, weights, biases, keep_prob)\n",
    "# prediction_unot = tf.nn.softmax(logits_unot)\n",
    "# correct_pred_unot = tf.equal(tf.argmax(prediction_unot, 1), tf.argmax(Y, 1))\n",
    "# accuracy_unot = tf.reduce_mean(tf.cast(correct_pred_unot, tf.float32))\n",
    "\n",
    "\n",
    "init = tf.global_variables_initializer()"
   ]
  },
  {
   "cell_type": "code",
   "execution_count": 79,
   "metadata": {
    "scrolled": true
   },
   "outputs": [
    {
     "name": "stdout",
     "output_type": "stream",
     "text": [
      "INFO:tensorflow:Restoring parameters from mnist1.chkp\n",
      "Total elements of w: 3211264\n",
      "Accuracy with w: 0.9609375\n",
      "Accuracy with u at 1.0x threshold: 0.9609375. Sparsity: 8.29%\n",
      "Accuracy with u at 1.5x threshold: 0.96484375. Sparsity: 11.91%\n",
      "Accuracy with u at 2.0x threshold: 0.96484375. Sparsity: 15.85%\n",
      "Accuracy with u at 2.5x threshold: 0.9609375. Sparsity: 19.72%\n",
      "Accuracy with u at 3.0x threshold: 0.9609375. Sparsity: 23.57%\n",
      "Accuracy with u at 3.5x threshold: 0.94921875. Sparsity: 27.35%\n",
      "Accuracy with u at 4.0x threshold: 0.953125. Sparsity: 31.08%\n",
      "Accuracy with u at 4.5x threshold: 0.9453125. Sparsity: 34.73%\n",
      "Accuracy with u at 5.0x threshold: 0.9453125. Sparsity: 38.29%\n",
      "Accuracy with u at 5.5x threshold: 0.9296875. Sparsity: 41.77%\n",
      "Accuracy with u at 6.0x threshold: 0.94140625. Sparsity: 45.16%\n",
      "Accuracy with u at 6.5x threshold: 0.93359375. Sparsity: 48.43%\n",
      "Accuracy with u at 7.0x threshold: 0.94921875. Sparsity: 51.61%\n",
      "Accuracy with u at 7.5x threshold: 0.94140625. Sparsity: 54.68%\n",
      "Accuracy with u at 8.0x threshold: 0.9296875. Sparsity: 57.63%\n",
      "Accuracy with u at 8.5x threshold: 0.91015625. Sparsity: 60.47%\n",
      "Accuracy with u at 9.0x threshold: 0.90234375. Sparsity: 63.19%\n",
      "Accuracy with u at 9.5x threshold: 0.89453125. Sparsity: 65.78%\n",
      "Accuracy with u at 10.0x threshold: 0.87890625. Sparsity: 68.29%\n"
     ]
    }
   ],
   "source": [
    "with tf.Session() as sess:\n",
    "    sess.run(init)\n",
    "    saver.restore(sess, 'mnist1.chkp')\n",
    "    batch_x, batch_y = mnist.train.next_batch(batch_size)\n",
    "    \n",
    "    # Evaluate with w\n",
    "    acc = sess.run(accuracy, feed_dict={X: mnist.test.images[:256],\n",
    "                                      Y: mnist.test.labels[:256],\n",
    "                                      keep_prob: 1.0})\n",
    "    print('Total elements of w: {}'.format(size_w))\n",
    "    print('Accuracy with w: {:.8}'.format(acc))    \n",
    "    \n",
    "    # Evaluate with u\n",
    "    x=[]\n",
    "    y=[]\n",
    "    for j in range(2,21):\n",
    "        mult = j/2\n",
    "        [ubar, acc_u] = sess.run(accuracy_u(wbar,conv_net,mult), feed_dict={X: mnist.test.images[:256],\n",
    "                                          Y: mnist.test.labels[:256],\n",
    "                                          keep_prob: 1.0})\n",
    "        size_w = 7*7*64*1024\n",
    "        zeros_u = size_w - np.count_nonzero(ubar)\n",
    "        sparse_u = zeros_u / size_w * 100\n",
    "        print('Accuracy with u at {}x threshold: {:.8}'.format(mult, acc_u) + '. Sparsity: {:.2f}%'.format(sparse_u))\n",
    "        x.append(sparse_u)\n",
    "        y.append(acc_u)"
   ]
  },
  {
   "cell_type": "code",
   "execution_count": null,
   "metadata": {},
   "outputs": [],
   "source": []
  },
  {
   "cell_type": "code",
   "execution_count": 84,
   "metadata": {},
   "outputs": [
    {
     "data": {
      "image/png": "[encoded data removed]",
      "text/plain": [
       "<Figure size 432x288 with 1 Axes>"
      ]
     },
     "metadata": {
      "needs_background": "light"
     },
     "output_type": "display_data"
    }
   ],
   "source": [
    "plt.xlabel('sparsity of u')\n",
    "plt.ylabel('accuracy')\n",
    "plt.title('sparsity vs accuracy of u')\n",
    "plt.plot(x,y)\n",
    "plt.show()"
   ]
  },
  {
   "cell_type": "code",
   "execution_count": null,
   "metadata": {},
   "outputs": [],
   "source": []
  },
  {
   "cell_type": "code",
   "execution_count": null,
   "metadata": {},
   "outputs": [],
   "source": []
  },
  {
   "cell_type": "code",
   "execution_count": null,
   "metadata": {},
   "outputs": [],
   "source": []
  },
  {
   "cell_type": "code",
   "execution_count": null,
   "metadata": {},
   "outputs": [],
   "source": []
  },
  {
   "cell_type": "code",
   "execution_count": null,
   "metadata": {},
   "outputs": [],
   "source": []
  },
  {
   "cell_type": "code",
   "execution_count": null,
   "metadata": {},
   "outputs": [],
   "source": []
  }
 ],
 "metadata": {
  "kernelspec": {
   "display_name": "tensorflow",
   "language": "python",
   "name": "tensorflow"
  },
  "language_info": {
   "codemirror_mode": {
    "name": "ipython",
    "version": 3
   },
   "file_extension": ".py",
   "mimetype": "text/x-python",
   "name": "python",
   "nbconvert_exporter": "python",
   "pygments_lexer": "ipython3",
   "version": "3.7.3"
  }
 },
 "nbformat": 4,
 "nbformat_minor": 1
}
